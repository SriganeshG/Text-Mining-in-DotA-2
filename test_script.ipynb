{
 "cells": [
  {
   "cell_type": "code",
   "execution_count": 1,
   "metadata": {},
   "outputs": [],
   "source": [
    "import numpy as np\n",
    "np.random.seed(696969696969696969696969)\n",
    "\n",
    "import requests\n",
    "import json\n",
    "# r = requests.get(\"https://api.opendota.com/api/players/91886888/matches?region=2&limit=5\")\n",
    "# with open('matches_sri_5.json', 'w') as data_file:\n",
    "#     json.dump(r.json(),data_file)"
   ]
  },
  {
   "cell_type": "code",
   "execution_count": 2,
   "metadata": {},
   "outputs": [],
   "source": [
    "# import bigjson\n",
    "\n",
    "# with open('E:\\yasp-dump.json\\yasp-dump.json', 'rb') as f:\n",
    "#     j = bigjson.load(f)\n",
    "#     element = j[4]\n",
    "#     print(element)\n",
    "\n",
    "# import ijson\n",
    "\n",
    "# with open('E:\\yasp-dump.json\\yasp-dump.json', 'rb') as input_file:\n",
    "#         # load json iteratively\n",
    "#         parser = ijson.parse(input_file)\n",
    "#         chat = ijson.items(input_file, 'features.item.chat.item')\n",
    "#         for item in chat:\n",
    "#             print('Chat: {}'.format(item))\n",
    "# #         for prefix, event, value in parser:\n",
    "# #             print('prefix={}, event={}, value={}'.format(prefix, event, value))\n",
    "\n",
    "# import ijson\n",
    "# f = open('E:\\yasp-dump.json\\yasp-dump.json', 'r')\n",
    "# line = f.read(300000)\n",
    "# print(line)"
   ]
  },
  {
   "cell_type": "code",
   "execution_count": 3,
   "metadata": {},
   "outputs": [],
   "source": [
    "wins = {}\n",
    "losses = {}\n",
    "both = {}\n",
    "def remove_non_ascii(text):\n",
    "    return ''.join(i for i in text if ord(i)<128)\n",
    "\n",
    "for i in range(1,11):\n",
    "    filename = 'games100-' + str(i) + '.json'\n",
    "    with open(filename, 'r', encoding=\"utf-8\") as data_file:\n",
    "        data = json.load(data_file)\n",
    "        counter = 0\n",
    "\n",
    "        for element in data:\n",
    "            counter = counter+1\n",
    "#             print(counter)\n",
    "#             print(element)\n",
    "            element['match_id'] = str(element['match_id']).replace('[', '').replace(']', '')\n",
    "            element['radiant_win'] = str(element['radiant_win']).replace('[', '').replace(']', '')\n",
    "    #         r = requests.get(\"https://api.opendota.com/api/matches/\" + str(element['match_id']))\n",
    "    #         r = r.json()\n",
    "            r = element\n",
    "#             print(r)\n",
    "\n",
    "            r.pop('all_word_counts', None)\n",
    "    #         r.pop('match_id', None)\n",
    "            r.pop('barracks_status_dire', None)\n",
    "            r.pop('barracks_status_radiant', None)\n",
    "    #         r.pop('chat', None)\n",
    "            r.pop('cluster', None)\n",
    "            r.pop('cosmetics', None)\n",
    "            r.pop('dire_score', None)\n",
    "            r.pop('dire_team_id', None)\n",
    "            r.pop('draft_timings', None)\n",
    "            r.pop('duration', None)\n",
    "            r.pop('engine', None)\n",
    "    #         r.pop('first_blood_time', None)\n",
    "    #         r.pop('game_mode', None)\n",
    "            r.pop('human_players', None)\n",
    "            r.pop('leagueid', None)\n",
    "            r.pop('lobby_type', None)\n",
    "            r.pop('match_seq_num', None)\n",
    "            r.pop('negative_votes', None)\n",
    "            r.pop('objectives', None)\n",
    "            r.pop('picks_bans', None)\n",
    "            r.pop('positive_votes', None)\n",
    "            r.pop('radiant_gold_adv', None)\n",
    "            r.pop('radiant_score', None)\n",
    "            r.pop('radiant_team_id', None)\n",
    "    #         r.pop('radiant_win', None)\n",
    "            r.pop('radiant_xp_adv', None)\n",
    "            r.pop('skill', None)\n",
    "            r.pop('start_time', None)\n",
    "            r.pop('teamfights', None)\n",
    "            r.pop('tower_status_dire', None)\n",
    "            r.pop('tower_status_radiant', None)\n",
    "            r.pop('version', None)\n",
    "            r.pop('replay_salt', None)\n",
    "            r.pop('series_id', None)\n",
    "            r.pop('series_type', None)\n",
    "            r.pop('players', None)\n",
    "            r.pop('patch', None)\n",
    "            r.pop('region', None)\n",
    "            r.pop('throw', None)\n",
    "            r.pop('loss', None)\n",
    "            r.pop('win', None)\n",
    "            r.pop('my_word_counts', None)\n",
    "            r.pop('comeback', None)\n",
    "            r.pop('stomp', None)\n",
    "            r.pop('replay_url', None)\n",
    "\n",
    "#             print(r)\n",
    "            pop_chat = []\n",
    "            for index, item in enumerate(r['chat']):\n",
    "                if item['slot'] == 10:\n",
    "                    pop_chat.append(index)\n",
    "\n",
    "#             print(\"pop index\" + str(pop_chat))\n",
    "#             for item in reversed(pop_chat):\n",
    "#                 print(\"Popped\" + str(r['chat'].pop(int(item))))\n",
    "\n",
    "            with open('chat_wheel.json', 'r',encoding='utf8') as data_file:\n",
    "                chat_wheel = json.load(data_file)\n",
    "            \n",
    "            for index, item in enumerate(r['chat']):\n",
    "                if item['type'] == 'chat':\n",
    "#                     item['key'] = ''.join(filter(lambda x: x in printable, item['key']))\n",
    "                    remove_non_ascii(item['key'])\n",
    "\n",
    "            for idx, item in enumerate(r['chat']):\n",
    "                if item['type'] == 'chatwheel':\n",
    "    #                 print(item['key'])\n",
    "                    item['type'] = 'chat'\n",
    "                    item['key'] = chat_wheel[item['key']].get('message')\n",
    "\n",
    "            both[element['match_id']] = r\n",
    "#             print(\"Added to both.\")\n",
    "#             print(r)\n",
    "\n",
    "            if r['radiant_win'] == str('True'):\n",
    "                wins[element['match_id']] = r\n",
    "#                 print(\"Added to wins.\")\n",
    "            else:\n",
    "                losses[element['match_id']] = r\n",
    "#                 print(\"Added to losses.\")\n",
    "                \n",
    "    data_file.close()\n",
    "    \n",
    "# with open('wins.json', 'w') as outfile:\n",
    "#     json.dump(wins, outfile)\n",
    "#     outfile.close()\n",
    "# with open('losses.json', 'w') as outfile:\n",
    "#     json.dump(losses, outfile)\n",
    "#     outfile.close()\n",
    "# with open('both.json', 'w') as outfile:\n",
    "#     json.dump(both, outfile)\n",
    "#     outfile.close()\n",
    "\n",
    "    # print(\"Wins:\")\n",
    "    # print(wins)\n",
    "    # print(\"Losses:\")\n",
    "    # print(losses)\n",
    "    # print(\"Both:\")\n",
    "    # print(both)\n"
   ]
  },
  {
   "cell_type": "code",
   "execution_count": 4,
   "metadata": {},
   "outputs": [],
   "source": [
    "# wins"
   ]
  },
  {
   "cell_type": "code",
   "execution_count": 5,
   "metadata": {},
   "outputs": [],
   "source": [
    "import copy\n",
    "win_chats={}\n",
    "lose_chats={}\n",
    "for game in wins:\n",
    "    game_copy = copy.deepcopy(wins[game])\n",
    "    game_copy['chat']=[line for line in wins[game]['chat'] if not (line['slot']>4)]\n",
    "    #print(game_copy)\n",
    "    win_chats[game]=game_copy\n",
    "    \n",
    "    game_copy = copy.deepcopy(wins[game])\n",
    "    game_copy['chat']=[line for line in wins[game]['chat'] if not (line['slot']<=4)]\n",
    "    #print(game_copy)\n",
    "    lose_chats[game]=game_copy\n",
    "\n",
    "for game in losses:\n",
    "    game_copy = copy.deepcopy(losses[game])\n",
    "    game_copy['chat']=[line for line in losses[game]['chat'] if not (line['slot']>4)]\n",
    "    lose_chats[game]=game_copy\n",
    "    \n",
    "    game_copy = copy.deepcopy(losses[game])\n",
    "    game_copy['chat']=[line for line in losses[game]['chat'] if not (line['slot']<=4)]\n",
    "    #print(game_copy)\n",
    "    win_chats[game]=game_copy\n",
    "\n",
    "# print(win_chats) \n",
    "# print(len(win_chats))\n",
    "# print(lose_chats) \n",
    "# len(lose_chats)\n"
   ]
  },
  {
   "cell_type": "code",
   "execution_count": 6,
   "metadata": {},
   "outputs": [],
   "source": [
    "wordDict = {}\n",
    "for game in both.keys():\n",
    "    for i in both[game]['chat']:\n",
    "        if i['key'] is not None:\n",
    "            for word in i['key'].split():\n",
    "                if word in wordDict:\n",
    "                    wordDict[word] = wordDict[word]+1\n",
    "                else:\n",
    "                    wordDict[word]=1\n",
    "        "
   ]
  },
  {
   "cell_type": "code",
   "execution_count": 7,
   "metadata": {},
   "outputs": [],
   "source": [
    "# print(len(both.keys()))\n",
    "# for i in both.keys():\n",
    "#     print(i)"
   ]
  },
  {
   "cell_type": "code",
   "execution_count": 8,
   "metadata": {},
   "outputs": [],
   "source": [
    "# wordDict"
   ]
  },
  {
   "cell_type": "code",
   "execution_count": 9,
   "metadata": {},
   "outputs": [],
   "source": [
    "import operator\n",
    "wordDictCounts = sorted(wordDict.items(), key=operator.itemgetter(1))"
   ]
  },
  {
   "cell_type": "code",
   "execution_count": 10,
   "metadata": {},
   "outputs": [],
   "source": [
    "# wordDictCounts[::-1]"
   ]
  },
  {
   "cell_type": "code",
   "execution_count": 11,
   "metadata": {},
   "outputs": [],
   "source": [
    "words = list(wordDict.keys())"
   ]
  },
  {
   "cell_type": "code",
   "execution_count": 12,
   "metadata": {},
   "outputs": [],
   "source": [
    "# words"
   ]
  },
  {
   "cell_type": "code",
   "execution_count": null,
   "metadata": {},
   "outputs": [],
   "source": []
  },
  {
   "cell_type": "code",
   "execution_count": 13,
   "metadata": {},
   "outputs": [],
   "source": [
    "words.insert(0,'Radiant Wins')"
   ]
  },
  {
   "cell_type": "code",
   "execution_count": 14,
   "metadata": {},
   "outputs": [],
   "source": [
    "import numpy as np\n",
    "AllWords = np.zeros((len(both)*2,len(wordDict)+1), dtype=int)\n",
    "game_index = 0\n",
    "for game in win_chats.keys():\n",
    "    AllWords[game_index][0]=1\n",
    "    for line in win_chats[game]['chat']:\n",
    "        if line['key'] is not None:\n",
    "            for word in line['key'].split():\n",
    "                AllWords[game_index][words.index(word)]=AllWords[game_index][words.index(word)]+1\n",
    "    game_index+=1\n",
    "for game in lose_chats.keys():\n",
    "    for line in lose_chats[game]['chat']:\n",
    "        if line['key'] is not None:\n",
    "            for word in line['key'].split():\n",
    "                AllWords[game_index][words.index(word)]=AllWords[game_index][words.index(word)]+1\n",
    "    game_index+=1"
   ]
  },
  {
   "cell_type": "code",
   "execution_count": 15,
   "metadata": {},
   "outputs": [],
   "source": [
    "# AllWords"
   ]
  },
  {
   "cell_type": "code",
   "execution_count": 16,
   "metadata": {},
   "outputs": [],
   "source": [
    "import pandas as pd \n",
    "df = pd.DataFrame(AllWords, columns = words) "
   ]
  },
  {
   "cell_type": "code",
   "execution_count": 17,
   "metadata": {},
   "outputs": [],
   "source": [
    "# df"
   ]
  },
  {
   "cell_type": "code",
   "execution_count": 18,
   "metadata": {},
   "outputs": [],
   "source": [
    "X = df.iloc[:,1:].values\n",
    "y = df.iloc[:,0].values"
   ]
  },
  {
   "cell_type": "code",
   "execution_count": 19,
   "metadata": {},
   "outputs": [],
   "source": [
    "from sklearn.model_selection import train_test_split\n",
    "X_train, X_test, y_train, y_test = train_test_split(X, y, test_size=0.20)"
   ]
  },
  {
   "cell_type": "code",
   "execution_count": 20,
   "metadata": {},
   "outputs": [],
   "source": [
    "# y_test"
   ]
  },
  {
   "cell_type": "code",
   "execution_count": 21,
   "metadata": {},
   "outputs": [],
   "source": [
    "from sklearn.preprocessing import StandardScaler\n",
    "scaler = StandardScaler(copy=False)\n",
    "# StandardScaler(copy=False,with_mean=False).fit(X_train)\n",
    "scaler.fit(X_train)\n",
    "\n",
    "X_train = scaler.transform(X_train)\n",
    "X_test = scaler.transform(X_test)"
   ]
  },
  {
   "cell_type": "code",
   "execution_count": 22,
   "metadata": {},
   "outputs": [
    {
     "data": {
      "text/plain": [
       "KNeighborsClassifier(algorithm='auto', leaf_size=30, metric='minkowski',\n",
       "                     metric_params=None, n_jobs=None, n_neighbors=1, p=2,\n",
       "                     weights='uniform')"
      ]
     },
     "execution_count": 22,
     "metadata": {},
     "output_type": "execute_result"
    }
   ],
   "source": [
    "from sklearn.neighbors import KNeighborsClassifier\n",
    "classifier = KNeighborsClassifier(n_neighbors=1)\n",
    "classifier.fit(X_train, y_train)"
   ]
  },
  {
   "cell_type": "code",
   "execution_count": 23,
   "metadata": {},
   "outputs": [],
   "source": [
    "y_pred = classifier.predict(X_test)"
   ]
  },
  {
   "cell_type": "code",
   "execution_count": 24,
   "metadata": {},
   "outputs": [
    {
     "name": "stdout",
     "output_type": "stream",
     "text": [
      "[[120  96]\n",
      " [105 111]]\n",
      "              precision    recall  f1-score   support\n",
      "\n",
      "           0       0.53      0.56      0.54       216\n",
      "           1       0.54      0.51      0.52       216\n",
      "\n",
      "    accuracy                           0.53       432\n",
      "   macro avg       0.53      0.53      0.53       432\n",
      "weighted avg       0.53      0.53      0.53       432\n",
      "\n"
     ]
    }
   ],
   "source": [
    "from sklearn.metrics import classification_report, confusion_matrix\n",
    "print(confusion_matrix(y_test, y_pred))\n",
    "print(classification_report(y_test, y_pred))"
   ]
  },
  {
   "cell_type": "code",
   "execution_count": 25,
   "metadata": {},
   "outputs": [
    {
     "name": "stdout",
     "output_type": "stream",
     "text": [
      "1\n",
      "2\n",
      "3\n",
      "4\n",
      "5\n",
      "6\n",
      "7\n",
      "8\n",
      "9\n",
      "10\n",
      "11\n",
      "12\n",
      "13\n",
      "14\n",
      "15\n",
      "16\n",
      "17\n",
      "18\n",
      "19\n",
      "20\n",
      "21\n",
      "22\n",
      "23\n",
      "24\n",
      "25\n",
      "26\n",
      "27\n",
      "28\n",
      "29\n",
      "30\n",
      "31\n",
      "32\n",
      "33\n",
      "34\n",
      "35\n",
      "36\n",
      "37\n",
      "38\n",
      "39\n"
     ]
    }
   ],
   "source": [
    "error = []\n",
    "\n",
    "# Calculating error for K values between 1 and 40\n",
    "for i in range(1, 40):\n",
    "    print(i)\n",
    "    knn = KNeighborsClassifier(n_neighbors=i)\n",
    "    knn.fit(X_train, y_train)\n",
    "    pred_i = knn.predict(X_test)\n",
    "    error.append(np.mean(pred_i != y_test))"
   ]
  },
  {
   "cell_type": "code",
   "execution_count": null,
   "metadata": {},
   "outputs": [],
   "source": [
    "import matplotlib.pyplot as plt\n",
    "plt.figure(figsize=(12, 6))\n",
    "plt.plot(range(1, 40), error, color='red', linestyle='dashed', marker='o',\n",
    "         markerfacecolor='blue', markersize=10)\n",
    "plt.title('Error Rate K Value')\n",
    "plt.xlabel('K Value')\n",
    "plt.ylabel('Mean Error')"
   ]
  },
  {
   "cell_type": "code",
   "execution_count": 27,
   "metadata": {},
   "outputs": [],
   "source": [
    "#Import Gaussian Naive Bayes model\n",
    "from sklearn.naive_bayes import GaussianNB\n",
    "\n",
    "#Create a Gaussian Classifier\n",
    "gnb = GaussianNB(priors = [.5,.5])\n",
    "\n",
    "#Train the model using the training sets\n",
    "gnb.fit(X_train, y_train)\n",
    "\n",
    "#Predict the response for test dataset\n",
    "y_pred = gnb.predict(X_test)"
   ]
  },
  {
   "cell_type": "code",
   "execution_count": 28,
   "metadata": {},
   "outputs": [
    {
     "name": "stdout",
     "output_type": "stream",
     "text": [
      "Accuracy: 0.5\n"
     ]
    }
   ],
   "source": [
    "from sklearn import metrics\n",
    "\n",
    "# Model Accuracy, how often is the classifier correct?\n",
    "print(\"Accuracy:\",metrics.accuracy_score(y_test, y_pred))"
   ]
  },
  {
   "cell_type": "code",
   "execution_count": null,
   "metadata": {},
   "outputs": [],
   "source": []
  },
  {
   "cell_type": "code",
   "execution_count": 29,
   "metadata": {},
   "outputs": [],
   "source": [
    "from sklearn.tree import DecisionTreeClassifier # Import Decision Tree Classifier\n",
    "from sklearn.model_selection import train_test_split # Import train_test_split function\n",
    "from sklearn import metrics #Import scikit-learn metrics module for accuracy calculation\n",
    "# Create Decision Tree classifer object\n",
    "clf = DecisionTreeClassifier()\n",
    "\n",
    "# Train Decision Tree Classifer\n",
    "clf = clf.fit(X_train,y_train)\n",
    "\n",
    "tree.plot_tree(clf)\n",
    "\n",
    "#Predict the response for test dataset\n",
    "y_pred = clf.predict(X_test)"
   ]
  },
  {
   "cell_type": "code",
   "execution_count": 30,
   "metadata": {},
   "outputs": [
    {
     "name": "stdout",
     "output_type": "stream",
     "text": [
      "Accuracy: 0.5578703703703703\n"
     ]
    }
   ],
   "source": [
    "print(\"Accuracy:\",metrics.accuracy_score(y_test, y_pred))"
   ]
  },
  {
   "cell_type": "code",
   "execution_count": 34,
   "metadata": {},
   "outputs": [
    {
     "name": "stdout",
     "output_type": "stream",
     "text": [
      "[0.515625   0.55555556 0.53472222]\n"
     ]
    }
   ],
   "source": [
    "from sklearn.model_selection import KFold, cross_val_score\n",
    "k_fold = KFold(n_splits=3, shuffle=True, random_state=0)\n",
    "clf = DecisionTreeClassifier()\n",
    "print(cross_val_score(clf, X_train, y_train, cv=k_fold, n_jobs=1))"
   ]
  },
  {
   "cell_type": "code",
   "execution_count": 31,
   "metadata": {},
   "outputs": [],
   "source": [
    "#Import Random Forest Model\n",
    "from sklearn.ensemble import RandomForestClassifier\n",
    "\n",
    "#Create a Gaussian Classifier\n",
    "clf=RandomForestClassifier(n_estimators=100)\n",
    "\n",
    "#Train the model using the training sets y_pred=clf.predict(X_test)\n",
    "clf.fit(X_train,y_train)\n",
    "\n",
    "tree.plot_tree(clf)\n",
    "\n",
    "y_pred=clf.predict(X_test)"
   ]
  },
  {
   "cell_type": "code",
   "execution_count": 32,
   "metadata": {},
   "outputs": [
    {
     "name": "stdout",
     "output_type": "stream",
     "text": [
      "Accuracy: 0.5694444444444444\n"
     ]
    }
   ],
   "source": [
    "#Import scikit-learn metrics module for accuracy calculation\n",
    "from sklearn import metrics\n",
    "# Model Accuracy, how often is the classifier correct?\n",
    "print(\"Accuracy:\",metrics.accuracy_score(y_test, y_pred))"
   ]
  },
  {
   "cell_type": "code",
   "execution_count": 33,
   "metadata": {},
   "outputs": [
    {
     "name": "stdout",
     "output_type": "stream",
     "text": [
      "[0.56805556 0.60555556 0.59027778]\n"
     ]
    }
   ],
   "source": [
    "from sklearn.model_selection import KFold, cross_val_score\n",
    "k_fold = KFold(n_splits=3, shuffle=True, random_state=0)\n",
    "clf = RandomForestClassifier(n_estimators=100)\n",
    "print(cross_val_score(clf, X, y, cv=k_fold, n_jobs=1))"
   ]
  },
  {
   "cell_type": "code",
   "execution_count": null,
   "metadata": {},
   "outputs": [],
   "source": [
    "from sklearn.model_selection import KFold, cross_val_score\n",
    "Forest_numbers={}\n",
    "for k in range(51,151,10):\n",
    "    k_fold = KFold(n_splits=11, shuffle=True, random_state=0)\n",
    "    clf = RandomForestClassifier(n_estimators=k)\n",
    "    Forest_numbers[k] = cross_val_score(clf, X, y, cv=k_fold, n_jobs=1)"
   ]
  },
  {
   "cell_type": "code",
   "execution_count": null,
   "metadata": {},
   "outputs": [],
   "source": []
  }
 ],
 "metadata": {
  "file_extension": ".py",
  "kernelspec": {
   "display_name": "Python 3",
   "language": "python",
   "name": "python3"
  },
  "language_info": {
   "codemirror_mode": {
    "name": "ipython",
    "version": 3
   },
   "file_extension": ".py",
   "mimetype": "text/x-python",
   "name": "python",
   "nbconvert_exporter": "python",
   "pygments_lexer": "ipython3",
   "version": "3.7.3"
  },
  "mimetype": "text/x-python",
  "name": "python",
  "npconvert_exporter": "python",
  "pygments_lexer": "ipython3",
  "version": 3
 },
 "nbformat": 4,
 "nbformat_minor": 2
}
