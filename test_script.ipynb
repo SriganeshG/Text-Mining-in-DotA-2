{
 "cells": [
  {
   "cell_type": "code",
   "execution_count": 1,
   "metadata": {},
   "outputs": [],
   "source": [
    "import requests\n",
    "import json\n",
    "# r = requests.get(\"https://api.opendota.com/api/players/91886888/matches?region=2&limit=5\")\n",
    "# with open('matches_sri_5.json', 'w') as data_file:\n",
    "#     json.dump(r.json(),data_file)"
   ]
  },
  {
   "cell_type": "code",
   "execution_count": 2,
   "metadata": {},
   "outputs": [],
   "source": [
    "# import bigjson\n",
    "\n",
    "# with open('E:\\yasp-dump.json\\yasp-dump.json', 'rb') as f:\n",
    "#     j = bigjson.load(f)\n",
    "#     element = j[4]\n",
    "#     print(element)\n",
    "\n",
    "# import ijson\n",
    "\n",
    "# with open('E:\\yasp-dump.json\\yasp-dump.json', 'rb') as input_file:\n",
    "#         # load json iteratively\n",
    "#         parser = ijson.parse(input_file)\n",
    "#         chat = ijson.items(input_file, 'features.item.chat.item')\n",
    "#         for item in chat:\n",
    "#             print('Chat: {}'.format(item))\n",
    "# #         for prefix, event, value in parser:\n",
    "# #             print('prefix={}, event={}, value={}'.format(prefix, event, value))"
   ]
  },
  {
   "cell_type": "code",
   "execution_count": 9,
   "metadata": {},
   "outputs": [
    {
     "name": "stdout",
     "output_type": "stream",
     "text": [
      "<Response [404]>\n"
     ]
    },
    {
     "ename": "KeyError",
     "evalue": "'chat'",
     "output_type": "error",
     "traceback": [
      "\u001b[1;31m---------------------------------------------------------------------------\u001b[0m",
      "\u001b[1;31mKeyError\u001b[0m                                  Traceback (most recent call last)",
      "\u001b[1;32m<ipython-input-9-c75a8c7e7790>\u001b[0m in \u001b[0;36m<module>\u001b[1;34m\u001b[0m\n\u001b[0;32m     61\u001b[0m \u001b[1;33m\u001b[0m\u001b[0m\n\u001b[0;32m     62\u001b[0m         \u001b[0mpop_chat\u001b[0m \u001b[1;33m=\u001b[0m \u001b[1;33m[\u001b[0m\u001b[1;33m]\u001b[0m\u001b[1;33m\u001b[0m\u001b[1;33m\u001b[0m\u001b[0m\n\u001b[1;32m---> 63\u001b[1;33m         \u001b[1;32mfor\u001b[0m \u001b[0mindex\u001b[0m\u001b[1;33m,\u001b[0m \u001b[0mitem\u001b[0m \u001b[1;32min\u001b[0m \u001b[0menumerate\u001b[0m\u001b[1;33m(\u001b[0m\u001b[0mr\u001b[0m\u001b[1;33m[\u001b[0m\u001b[1;34m'chat'\u001b[0m\u001b[1;33m]\u001b[0m\u001b[1;33m)\u001b[0m\u001b[1;33m:\u001b[0m\u001b[1;33m\u001b[0m\u001b[1;33m\u001b[0m\u001b[0m\n\u001b[0m\u001b[0;32m     64\u001b[0m             \u001b[1;32mif\u001b[0m \u001b[0mitem\u001b[0m\u001b[1;33m[\u001b[0m\u001b[1;34m'slot'\u001b[0m\u001b[1;33m]\u001b[0m \u001b[1;33m==\u001b[0m \u001b[1;36m10\u001b[0m\u001b[1;33m:\u001b[0m\u001b[1;33m\u001b[0m\u001b[1;33m\u001b[0m\u001b[0m\n\u001b[0;32m     65\u001b[0m                 \u001b[0mpop_chat\u001b[0m\u001b[1;33m.\u001b[0m\u001b[0mappend\u001b[0m\u001b[1;33m(\u001b[0m\u001b[0mindex\u001b[0m\u001b[1;33m)\u001b[0m\u001b[1;33m\u001b[0m\u001b[1;33m\u001b[0m\u001b[0m\n",
      "\u001b[1;31mKeyError\u001b[0m: 'chat'"
     ]
    }
   ],
   "source": [
    "wins = {}\n",
    "losses = {}\n",
    "both = {}\n",
    "\n",
    "# with open('matches_sri_5.json', 'r') as data_file:\n",
    "with open('games.json', 'r', encoding=\"utf-8\") as data_file:\n",
    "    data = json.load(data_file)\n",
    "    \n",
    "    for element in data:\n",
    "#         print(element)\n",
    "        r = requests.get(\"https://api.opendota.com/api/matches/\" + str(element['match_id']))\n",
    "        r = r.json()\n",
    "\n",
    "        r.pop('all_word_counts', None)\n",
    "        r.pop('match_id', None)\n",
    "        r.pop('barracks_status_dire', None)\n",
    "        r.pop('barracks_status_radiant', None)\n",
    "#         r.pop('chat', None)\n",
    "        r.pop('cluster', None)\n",
    "        r.pop('cosmetics', None)\n",
    "        r.pop('dire_score', None)\n",
    "        r.pop('dire_team_id', None)\n",
    "        r.pop('draft_timings', None)\n",
    "        r.pop('duration', None)\n",
    "        r.pop('engine', None)\n",
    "#         r.pop('first_blood_time', None)\n",
    "#         r.pop('game_mode', None)\n",
    "        r.pop('human_players', None)\n",
    "        r.pop('leagueid', None)\n",
    "        r.pop('lobby_type', None)\n",
    "        r.pop('match_seq_num', None)\n",
    "        r.pop('negative_votes', None)\n",
    "        r.pop('objectives', None)\n",
    "        r.pop('picks_bans', None)\n",
    "        r.pop('positive_votes', None)\n",
    "        r.pop('radiant_gold_adv', None)\n",
    "        r.pop('radiant_score', None)\n",
    "        r.pop('radiant_team_id', None)\n",
    "#         r.pop('radiant_win', None)\n",
    "        r.pop('radiant_xp_adv', None)\n",
    "        r.pop('skill', None)\n",
    "        r.pop('start_time', None)\n",
    "        r.pop('teamfights', None)\n",
    "        r.pop('tower_status_dire', None)\n",
    "        r.pop('tower_status_radiant', None)\n",
    "        r.pop('version', None)\n",
    "        r.pop('replay_salt', None)\n",
    "        r.pop('series_id', None)\n",
    "        r.pop('series_type', None)\n",
    "        r.pop('players', None)\n",
    "        r.pop('patch', None)\n",
    "        r.pop('region', None)\n",
    "        r.pop('throw', None)\n",
    "        r.pop('loss', None)\n",
    "        r.pop('win', None)\n",
    "        r.pop('my_word_counts', None)\n",
    "        r.pop('comeback', None)\n",
    "        r.pop('stomp', None)\n",
    "        r.pop('replay_url', None)\n",
    "     \n",
    "        pop_chat = []\n",
    "        for index, item in enumerate(r['chat']):\n",
    "            if item['slot'] == 10:\n",
    "                pop_chat.append(index)\n",
    "\n",
    "        print(\"pop index\" + str(pop_chat))\n",
    "        for item in reversed(pop_chat):\n",
    "            print(\"Popped\" + str(r['chat'].pop(int(item))))\n",
    "        \n",
    "        with open('chat_wheel.json', 'r',encoding='utf8') as data_file:\n",
    "            chat_wheel = json.load(data_file)\n",
    "            \n",
    "        for idx, item in enumerate(r['chat']):\n",
    "            if item['type'] == 'chatwheel':\n",
    "#                 print(item['key'])\n",
    "                item['type'] = 'chat'\n",
    "                item['key'] = chat_wheel[item['key']].get('message')\n",
    "        \n",
    "        both[element['match_id']] = r\n",
    "        print(\"Added to both.\")\n",
    "#         print(r)\n",
    "        \n",
    "        if element['radiant_win'] == True:\n",
    "            wins[element['match_id']] = r\n",
    "            print(\"Added to wins.\")\n",
    "        else:\n",
    "            losses[element['match_id']] = r\n",
    "            print(\"Added to losses.\")\n",
    "        with open('wins.json', 'w') as outfile:\n",
    "            json.dump(wins, outfile)\n",
    "        with open('losses.json', 'w') as outfile:\n",
    "            json.dump(losses, outfile)\n",
    "        with open('both.json', 'w') as outfile:\n",
    "            json.dump(both, outfile)\n",
    "            \n",
    "# print(\"Wins:\")\n",
    "# print(wins)\n",
    "# print(\"Losses:\")\n",
    "# print(losses)\n",
    "# print(\"Both:\")\n",
    "# print(both)\n"
   ]
  },
  {
   "cell_type": "code",
   "execution_count": null,
   "metadata": {},
   "outputs": [],
   "source": [
    "wins"
   ]
  },
  {
   "cell_type": "code",
   "execution_count": null,
   "metadata": {},
   "outputs": [],
   "source": [
    "import copy\n",
    "win_chats={}\n",
    "lose_chats={}\n",
    "for game in wins:\n",
    "    game_copy = copy.deepcopy(wins[game])\n",
    "    game_copy['chat']=[line for line in wins[game]['chat'] if not (line['slot']>4)]\n",
    "    #print(game_copy)\n",
    "    win_chats[game]=game_copy\n",
    "    \n",
    "    game_copy = copy.deepcopy(wins[game])\n",
    "    game_copy['chat']=[line for line in wins[game]['chat'] if not (line['slot']<=4)]\n",
    "    #print(game_copy)\n",
    "    lose_chats[game]=game_copy\n",
    "\n",
    "for game in losses:\n",
    "    game_copy = copy.deepcopy(losses[game])\n",
    "    game_copy['chat']=[line for line in losses[game]['chat'] if not (line['slot']>4)]\n",
    "    lose_chats[game]=game_copy\n",
    "    \n",
    "    game_copy = copy.deepcopy(losses[game])\n",
    "    game_copy['chat']=[line for line in losses[game]['chat'] if not (line['slot']<=4)]\n",
    "    #print(game_copy)\n",
    "    win_chats[game]=game_copy\n",
    "\n",
    "print(win_chats) \n",
    "print(len(win_chats))\n",
    "print(lose_chats) \n",
    "len(lose_chats)\n"
   ]
  },
  {
   "cell_type": "code",
   "execution_count": null,
   "metadata": {},
   "outputs": [],
   "source": [
    "wordDict = {}\n",
    "for game in both.keys():\n",
    "    for i in both[game]['chat']:\n",
    "        for word in i['key'].split():\n",
    "            if word in wordDict:\n",
    "                wordDict[word] = wordDict[word]+1\n",
    "            else:\n",
    "                wordDict[word]=1"
   ]
  },
  {
   "cell_type": "code",
   "execution_count": null,
   "metadata": {},
   "outputs": [],
   "source": [
    "for i in both.keys():\n",
    "    print(i)"
   ]
  },
  {
   "cell_type": "code",
   "execution_count": null,
   "metadata": {},
   "outputs": [],
   "source": [
    "wordDict"
   ]
  },
  {
   "cell_type": "code",
   "execution_count": null,
   "metadata": {},
   "outputs": [],
   "source": [
    "import operator\n",
    "wordDictCounts = sorted(wordDict.items(), key=operator.itemgetter(1))"
   ]
  },
  {
   "cell_type": "code",
   "execution_count": null,
   "metadata": {},
   "outputs": [],
   "source": [
    "wordDictCounts[::-1]"
   ]
  },
  {
   "cell_type": "code",
   "execution_count": null,
   "metadata": {},
   "outputs": [],
   "source": [
    "words = list(wordDict.keys())"
   ]
  },
  {
   "cell_type": "code",
   "execution_count": null,
   "metadata": {},
   "outputs": [],
   "source": [
    "words"
   ]
  },
  {
   "cell_type": "code",
   "execution_count": null,
   "metadata": {},
   "outputs": [],
   "source": []
  },
  {
   "cell_type": "code",
   "execution_count": null,
   "metadata": {},
   "outputs": [],
   "source": [
    "words.insert(0,'Radiant Wins')"
   ]
  },
  {
   "cell_type": "code",
   "execution_count": null,
   "metadata": {},
   "outputs": [],
   "source": [
    "import numpy as np\n",
    "AllWords = np.zeros((len(both)*2,len(wordDict)+1), dtype=int)\n",
    "game_index = 0\n",
    "for game in win_chats.keys():\n",
    "    AllWords[game_index][0]=1\n",
    "    for line in win_chats[game]['chat']:\n",
    "        for word in line['key'].split():\n",
    "            AllWords[game_index][words.index(word)]=AllWords[game_index][words.index(word)]+1\n",
    "    game_index+=1\n",
    "for game in lose_chats.keys():\n",
    "    for line in lose_chats[game]['chat']:\n",
    "        for word in line['key'].split():\n",
    "            AllWords[game_index][words.index(word)]=AllWords[game_index][words.index(word)]+1\n",
    "    game_index+=1"
   ]
  },
  {
   "cell_type": "code",
   "execution_count": null,
   "metadata": {},
   "outputs": [],
   "source": [
    "AllWords"
   ]
  },
  {
   "cell_type": "code",
   "execution_count": null,
   "metadata": {},
   "outputs": [],
   "source": [
    "import pandas as pd \n",
    "df = pd.DataFrame(AllWords, columns = words) "
   ]
  },
  {
   "cell_type": "code",
   "execution_count": null,
   "metadata": {},
   "outputs": [],
   "source": [
    "df"
   ]
  },
  {
   "cell_type": "code",
   "execution_count": null,
   "metadata": {},
   "outputs": [],
   "source": [
    "X = df.iloc[:,1:].values\n",
    "y = df.iloc[:,0].values"
   ]
  },
  {
   "cell_type": "code",
   "execution_count": null,
   "metadata": {},
   "outputs": [],
   "source": [
    "from sklearn.model_selection import train_test_split\n",
    "X_train, X_test, y_train, y_test = train_test_split(X, y, test_size=0.20)"
   ]
  },
  {
   "cell_type": "code",
   "execution_count": null,
   "metadata": {},
   "outputs": [],
   "source": [
    "y_test"
   ]
  },
  {
   "cell_type": "code",
   "execution_count": null,
   "metadata": {},
   "outputs": [],
   "source": [
    "from sklearn.preprocessing import StandardScaler\n",
    "scaler = StandardScaler()\n",
    "scaler.fit(X_train)\n",
    "\n",
    "X_train = scaler.transform(X_train)\n",
    "X_test = scaler.transform(X_test)"
   ]
  },
  {
   "cell_type": "code",
   "execution_count": null,
   "metadata": {},
   "outputs": [],
   "source": [
    "from sklearn.neighbors import KNeighborsClassifier\n",
    "classifier = KNeighborsClassifier(n_neighbors=5)\n",
    "classifier.fit(X_train, y_train)"
   ]
  },
  {
   "cell_type": "code",
   "execution_count": null,
   "metadata": {},
   "outputs": [],
   "source": [
    "y_pred = classifier.predict(X_test)"
   ]
  },
  {
   "cell_type": "code",
   "execution_count": null,
   "metadata": {},
   "outputs": [],
   "source": [
    "from sklearn.metrics import classification_report, confusion_matrix\n",
    "print(confusion_matrix(y_test, y_pred))\n",
    "print(classification_report(y_test, y_pred))"
   ]
  },
  {
   "cell_type": "code",
   "execution_count": null,
   "metadata": {},
   "outputs": [],
   "source": []
  }
 ],
 "metadata": {
  "file_extension": ".py",
  "kernelspec": {
   "display_name": "Python 3",
   "language": "python",
   "name": "python3"
  },
  "language_info": {
   "codemirror_mode": {
    "name": "ipython",
    "version": 3
   },
   "file_extension": ".py",
   "mimetype": "text/x-python",
   "name": "python",
   "nbconvert_exporter": "python",
   "pygments_lexer": "ipython3",
   "version": "3.7.3"
  },
  "mimetype": "text/x-python",
  "name": "python",
  "npconvert_exporter": "python",
  "pygments_lexer": "ipython3",
  "version": 3
 },
 "nbformat": 4,
 "nbformat_minor": 2
}
